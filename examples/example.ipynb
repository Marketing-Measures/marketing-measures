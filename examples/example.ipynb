{
 "cells": [
  {
   "cell_type": "markdown",
   "id": "ac925cb5",
   "metadata": {},
   "source": [
    "You are recommended to select `GPU` as the hardware accelerator. In Colab, navigate menu to `Runtime` -> `Change runtime type` and select `GPU`."
   ]
  },
  {
   "cell_type": "code",
   "execution_count": null,
   "id": "9a274a46",
   "metadata": {},
   "outputs": [],
   "source": [
    "!pip install marketing_measures --no-deps"
   ]
  },
  {
   "cell_type": "code",
   "execution_count": null,
   "id": "99111920",
   "metadata": {},
   "outputs": [],
   "source": [
    "import pandas as pd\n",
    "\n",
    "from marketing_measures import MarketingEmphasisScorer"
   ]
  },
  {
   "cell_type": "code",
   "execution_count": null,
   "id": "e5850b55",
   "metadata": {},
   "outputs": [],
   "source": [
    "scorer = MarketingEmphasisScorer(model_name=\"sentence-transformers/all-mpnet-base-v2\")"
   ]
  },
  {
   "cell_type": "code",
   "execution_count": null,
   "id": "92adfa49",
   "metadata": {},
   "outputs": [],
   "source": [
    "scorer.get_model_info()[\"all_dimension_names_in_order\"]"
   ]
  },
  {
   "cell_type": "code",
   "execution_count": null,
   "id": "f6dec94d",
   "metadata": {},
   "outputs": [],
   "source": [
    "texts = [\n",
    "    \"The firm uses AI to understand customer needs and preferences.\",\n",
    "    \"We continuously scan the market to gather insights about competitors.\",\n",
    "    \"Accurate customer analysis helps refine our marketing strategies.\",\n",
    "    \"Market research revealed a gap in services that we can exploit.\",\n",
    "    \"Collecting smart data enables more precise targeting.\",\n",
    "    \"Our marketing strategy incorporates both traditional and digital channels.\",\n",
    "    \"The team designed a creative campaign to boost brand awareness.\",\n",
    "    \"We follow a structured marketing planning process each quarter.\",\n",
    "    \"Segmentation allows us to tailor messages for different customer groups.\",\n",
    "    \"The campaign exemplified out-of-the-box thinking to reach Gen Z consumers.\",\n",
    "    \"Marketing KPIs are monitored weekly to ensure implementation is on track.\",\n",
    "    \"Fast execution of campaigns helps us stay ahead of competitors.\",\n",
    "    \"The team was highly responsive to market changes during the rollout.\",\n",
    "    \"Resources were reallocated flexibly to maximize performance.\",\n",
    "    \"Speed and adaptability are essential for successful marketing implementation.\",\n",
    "    \"Our pricing strategy reflects deep knowledge of competitor price points.\",\n",
    "    \"Dynamic pricing tools support our price setting capabilities.\",\n",
    "    \"The team reviewed pricing insights before launching the new service.\",\n",
    "    \"We adjusted prices based on customer feedback and pricing analytics.\",\n",
    "    \"A strong pricing capability ensures we capture value without losing volume.\",\n",
    "    \"R&D investment led to a novel solution for customer pain points.\",\n",
    "    \"The product development team worked closely with users to refine features.\",\n",
    "    \"Test marketing revealed high acceptance for the innovation.\",\n",
    "    \"Commercialization of the new product was accelerated by effective planning.\",\n",
    "    \"Innovation management is central to our long-term competitiveness.\",\n",
    "    \"Strong distributor relationships enhance our reach in remote markets.\",\n",
    "    \"We provide ongoing retailer support to improve product visibility.\",\n",
    "    \"Retailer cooperation was key in launching the new product line.\",\n",
    "    \"Channel management focuses on adding value across the supply chain.\",\n",
    "    \"Partnering with intermediaries allowed faster market penetration.\",\n",
    "    \"The advertising campaign increased brand awareness significantly.\",\n",
    "    \"Our marketing communication strategy emphasizes consistent messaging.\",\n",
    "    \"Public relations helped manage reputation during the crisis.\",\n",
    "    \"Image and branding efforts are supported by coordinated promotion.\",\n",
    "    \"We rely on integrated marketing communication for maximum impact.\",\n",
    "    \"Salespeople are trained regularly to improve selling skills.\",\n",
    "    \"Sales support tools help enable more effective customer interactions.\",\n",
    "    \"The sales strategy focuses on value-based selling.\",\n",
    "    \"Sales management ensures quotas are aligned with overall goals.\",\n",
    "    \"Sales controlling enables better forecasting and performance evaluation.\",\n",
    "]"
   ]
  },
  {
   "cell_type": "code",
   "execution_count": null,
   "id": "a5ed4d79",
   "metadata": {},
   "outputs": [],
   "source": [
    "results = scorer.score_texts(\n",
    "    texts=texts,\n",
    "    zca_transform=\"pre-trained\",\n",
    "    batch_size=32,\n",
    ")"
   ]
  },
  {
   "cell_type": "markdown",
   "id": "466f4ecb",
   "metadata": {},
   "source": [
    "Results for marketing capabilities dimensions"
   ]
  },
  {
   "cell_type": "code",
   "execution_count": null,
   "id": "35c5e273",
   "metadata": {},
   "outputs": [],
   "source": [
    "df = pd.DataFrame(results)\n",
    "marketing_capability_dimensions_list = [\n",
    "    \"marketing information management\",\n",
    "    \"marketing planning capabilities\",\n",
    "    \"marketing implementation capabilities\",\n",
    "    \"pricing capabilities\",\n",
    "    \"product development capabilities\",\n",
    "    \"channel management\",\n",
    "    \"marketing communication capabilities\",\n",
    "    \"selling capabilities\",\n",
    "]"
   ]
  },
  {
   "cell_type": "code",
   "execution_count": null,
   "id": "28f18d25",
   "metadata": {},
   "outputs": [],
   "source": [
    "df[marketing_capability_dimensions_list]"
   ]
  },
  {
   "cell_type": "code",
   "execution_count": null,
   "id": "f2ccc270",
   "metadata": {},
   "outputs": [],
   "source": [
    "df[\"text\"] = texts"
   ]
  },
  {
   "cell_type": "markdown",
   "id": "611505ed",
   "metadata": {},
   "source": [
    "Top 3 sentences text for each dimension (only text)"
   ]
  },
  {
   "cell_type": "code",
   "execution_count": null,
   "id": "7fae806b",
   "metadata": {},
   "outputs": [],
   "source": [
    "for dimension in marketing_capability_dimensions_list:\n",
    "    print(f\"Top 3 sentences for {dimension}:\")\n",
    "    top_indices = df[dimension].nlargest(3).index\n",
    "    for idx in top_indices:\n",
    "        print(f\"- {df['text'][idx]}\")\n",
    "    print(\"\\n\")"
   ]
  }
 ],
 "metadata": {
  "jupytext": {
   "cell_metadata_filter": "-all",
   "main_language": "python",
   "notebook_metadata_filter": "-all"
  }
 },
 "nbformat": 4,
 "nbformat_minor": 5
}
